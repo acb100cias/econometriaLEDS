{
  "nbformat": 4,
  "nbformat_minor": 0,
  "metadata": {
    "colab": {
      "private_outputs": true,
      "provenance": [],
      "authorship_tag": "ABX9TyOCm1zF0eXDKXzlccCtlYb2",
      "include_colab_link": true
    },
    "kernelspec": {
      "name": "python3",
      "display_name": "Python 3"
    },
    "language_info": {
      "name": "python"
    }
  },
  "cells": [
    {
      "cell_type": "markdown",
      "metadata": {
        "id": "view-in-github",
        "colab_type": "text"
      },
      "source": [
        "<a href=\"https://colab.research.google.com/github/acb100cias/econometriaLEDS/blob/main/MapasPlotly.ipynb\" target=\"_parent\"><img src=\"https://colab.research.google.com/assets/colab-badge.svg\" alt=\"Open In Colab\"/></a>"
      ]
    },
    {
      "cell_type": "code",
      "execution_count": null,
      "metadata": {
        "id": "PLCDs7Xx_A-6"
      },
      "outputs": [],
      "source": [
        "import plotly.express as px"
      ]
    },
    {
      "cell_type": "code",
      "source": [
        "elec=px.data.election()"
      ],
      "metadata": {
        "id": "sawDLwW1AhCb"
      },
      "execution_count": null,
      "outputs": []
    },
    {
      "cell_type": "code",
      "source": [
        "elec"
      ],
      "metadata": {
        "id": "pfa9s9zBAuWJ"
      },
      "execution_count": null,
      "outputs": []
    },
    {
      "cell_type": "code",
      "source": [
        "geojson=px.data.election_geojson()"
      ],
      "metadata": {
        "id": "RXgGjTY4AvcC"
      },
      "execution_count": null,
      "outputs": []
    },
    {
      "cell_type": "code",
      "source": [
        "geojson"
      ],
      "metadata": {
        "id": "iAr0m7KuBNL6"
      },
      "execution_count": null,
      "outputs": []
    },
    {
      "cell_type": "code",
      "source": [
        "fig=px.choropleth_mapbox(elec,geojson,color='winner',\n",
        "                         locations='district',\n",
        "                         featureidkey='properties.district',\n",
        "                         center={'lat':45.5517,'lon':-73.7073},\n",
        "                         mapbox_style='carto-positron', zoom=9)"
      ],
      "metadata": {
        "id": "bFCabvQTBmoa"
      },
      "execution_count": null,
      "outputs": []
    },
    {
      "cell_type": "code",
      "source": [
        "fig.show()"
      ],
      "metadata": {
        "id": "8maCBB5hDdEw"
      },
      "execution_count": null,
      "outputs": []
    },
    {
      "cell_type": "code",
      "source": [
        "gap=px.data.gapminder()"
      ],
      "metadata": {
        "id": "SrIyy1fNDfzn"
      },
      "execution_count": null,
      "outputs": []
    },
    {
      "cell_type": "code",
      "source": [
        "gap"
      ],
      "metadata": {
        "id": "Zosk6sK8GjvU"
      },
      "execution_count": null,
      "outputs": []
    },
    {
      "cell_type": "code",
      "source": [
        "fig2=px.scatter_geo(gap,locations='iso_alpha',\n",
        "                    color='continent',\n",
        "                    hover_name='country',\n",
        "                    size='pop',\n",
        "                    projection='natural earth',\n",
        "                    animation_frame='year')\n"
      ],
      "metadata": {
        "id": "ht8vp3ELGkYs"
      },
      "execution_count": null,
      "outputs": []
    },
    {
      "cell_type": "code",
      "source": [
        "fig2.show()"
      ],
      "metadata": {
        "id": "1hf5wvx2Ives"
      },
      "execution_count": null,
      "outputs": []
    },
    {
      "cell_type": "code",
      "source": [],
      "metadata": {
        "id": "rifVbmTmIxw5"
      },
      "execution_count": null,
      "outputs": []
    }
  ]
}