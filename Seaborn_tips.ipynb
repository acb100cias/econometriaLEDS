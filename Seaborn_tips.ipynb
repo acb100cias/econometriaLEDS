{
  "nbformat": 4,
  "nbformat_minor": 0,
  "metadata": {
    "colab": {
      "private_outputs": true,
      "provenance": [],
      "authorship_tag": "ABX9TyNw2jiaibb7TdYOeZ+Mcw6R",
      "include_colab_link": true
    },
    "kernelspec": {
      "name": "python3",
      "display_name": "Python 3"
    },
    "language_info": {
      "name": "python"
    }
  },
  "cells": [
    {
      "cell_type": "markdown",
      "metadata": {
        "id": "view-in-github",
        "colab_type": "text"
      },
      "source": [
        "<a href=\"https://colab.research.google.com/github/acb100cias/econometriaLEDS/blob/main/Seaborn_tips.ipynb\" target=\"_parent\"><img src=\"https://colab.research.google.com/assets/colab-badge.svg\" alt=\"Open In Colab\"/></a>"
      ]
    },
    {
      "cell_type": "code",
      "execution_count": null,
      "metadata": {
        "id": "G50fDrBX5w15"
      },
      "outputs": [],
      "source": [
        "import seaborn as sb\n",
        "import pandas as pd\n"
      ]
    },
    {
      "cell_type": "code",
      "source": [
        "tips = sb.load_dataset(\"tips\")"
      ],
      "metadata": {
        "id": "LfaFcnlR60Hp"
      },
      "execution_count": null,
      "outputs": []
    },
    {
      "cell_type": "code",
      "source": [
        "type(tips)"
      ],
      "metadata": {
        "id": "yuaDA-xC7NPf"
      },
      "execution_count": null,
      "outputs": []
    },
    {
      "cell_type": "code",
      "source": [
        "tips"
      ],
      "metadata": {
        "id": "IgyBOlLr7h3v"
      },
      "execution_count": null,
      "outputs": []
    },
    {
      "cell_type": "code",
      "source": [
        "tips.describe()"
      ],
      "metadata": {
        "id": "pk2fe2TH7q2P"
      },
      "execution_count": null,
      "outputs": []
    },
    {
      "cell_type": "code",
      "source": [
        "tips.tip.describe()"
      ],
      "metadata": {
        "id": "7NYiNziI8Q54"
      },
      "execution_count": null,
      "outputs": []
    },
    {
      "cell_type": "code",
      "source": [
        "tips.tip.median()"
      ],
      "metadata": {
        "id": "n1gC7vGb8qVP"
      },
      "execution_count": null,
      "outputs": []
    },
    {
      "cell_type": "code",
      "source": [
        "tips.tip.mode()"
      ],
      "metadata": {
        "id": "Ib_HL1iL8yS4"
      },
      "execution_count": null,
      "outputs": []
    },
    {
      "cell_type": "code",
      "source": [
        "sb.catplot(x='day',y='tip',data=tips,hue='time')"
      ],
      "metadata": {
        "id": "gvPHtZzY81gf"
      },
      "execution_count": null,
      "outputs": []
    },
    {
      "cell_type": "code",
      "source": [
        "sb.catplot(x='day',y='tip',data=tips,hue='sex')"
      ],
      "metadata": {
        "id": "mQAemIDT9uZ_"
      },
      "execution_count": null,
      "outputs": []
    },
    {
      "cell_type": "code",
      "source": [
        "sb.catplot(x='day',y='tip',data=tips,hue='smoker')"
      ],
      "metadata": {
        "id": "oFaQeIJl-zyX"
      },
      "execution_count": null,
      "outputs": []
    },
    {
      "cell_type": "code",
      "source": [],
      "metadata": {
        "id": "sFKYkL-F_A0G"
      },
      "execution_count": null,
      "outputs": []
    },
    {
      "cell_type": "code",
      "source": [
        "ptip=tips.tip/tips.total_bill"
      ],
      "metadata": {
        "id": "WtUpgnNd_iw-"
      },
      "execution_count": null,
      "outputs": []
    },
    {
      "cell_type": "code",
      "source": [
        "ptip.round(2)"
      ],
      "metadata": {
        "id": "k_RLKt4fAJrW"
      },
      "execution_count": null,
      "outputs": []
    },
    {
      "cell_type": "code",
      "source": [
        "ptip.round(2)*100"
      ],
      "metadata": {
        "id": "mEcZg5FRAMt1"
      },
      "execution_count": null,
      "outputs": []
    },
    {
      "cell_type": "code",
      "source": [
        "tips['ptip']=ptip.round(2)*100"
      ],
      "metadata": {
        "id": "eXZQ7hqLAzLW"
      },
      "execution_count": null,
      "outputs": []
    },
    {
      "cell_type": "code",
      "source": [
        "tips"
      ],
      "metadata": {
        "id": "jsaONPWnBK42"
      },
      "execution_count": null,
      "outputs": []
    },
    {
      "cell_type": "code",
      "source": [
        "sb.catplot(x='day',y='ptip',data=tips,hue='time')\n",
        "sb.catplot(x='day',y='tip',data=tips,hue='time')"
      ],
      "metadata": {
        "id": "bv_ULXp0BLtt"
      },
      "execution_count": null,
      "outputs": []
    },
    {
      "cell_type": "code",
      "source": [
        "sb.catplot(x='day',y='ptip',data=tips,hue='sex')\n",
        "sb.catplot(x='day',y='tip',data=tips,hue='sex')"
      ],
      "metadata": {
        "id": "k0zpELQPCL3t"
      },
      "execution_count": null,
      "outputs": []
    },
    {
      "cell_type": "code",
      "source": [
        "sb.catplot(x='day',y='ptip',data=tips,hue='smoker')\n",
        "sb.catplot(x='day',y='tip',data=tips,hue='smoker')"
      ],
      "metadata": {
        "id": "kNy54PfcD0-V"
      },
      "execution_count": null,
      "outputs": []
    },
    {
      "cell_type": "code",
      "source": [
        "sb.catplot(x='size',y='ptip',data=tips,hue='time')\n",
        "sb.catplot(x='size',y='tip',data=tips,hue='time')"
      ],
      "metadata": {
        "id": "UEd7HuNoEUZm"
      },
      "execution_count": null,
      "outputs": []
    },
    {
      "cell_type": "code",
      "source": [
        "sb.catplot(x='size',y='ptip',data=tips,hue='sex')\n",
        "sb.catplot(x='size',y='tip',data=tips,hue='sex')"
      ],
      "metadata": {
        "id": "c553M37dEugu"
      },
      "execution_count": null,
      "outputs": []
    },
    {
      "cell_type": "code",
      "source": [
        "sb.catplot(x='day',y='ptip',data=tips,hue='time',kind='bar')\n",
        "sb.catplot(x='day',y='tip',data=tips,hue='time',kind='bar')"
      ],
      "metadata": {
        "id": "CzpzJByFFv3G"
      },
      "execution_count": null,
      "outputs": []
    },
    {
      "cell_type": "code",
      "source": [
        "sb.catplot(x='day',y='ptip',data=tips,hue='time',kind='violin')\n",
        "sb.catplot(x='day',y='tip',data=tips,hue='time',kind='violin')"
      ],
      "metadata": {
        "id": "vB6T8DShGhaF"
      },
      "execution_count": null,
      "outputs": []
    },
    {
      "cell_type": "code",
      "source": [
        "sb.relplot(x='total_bill',y='tip',data=tips,hue='time',size='size')"
      ],
      "metadata": {
        "id": "Sdz-ceZkHC3t"
      },
      "execution_count": null,
      "outputs": []
    },
    {
      "cell_type": "code",
      "source": [
        "sb.relplot(x='total_bill',y='ptip',data=tips,hue='time',size='size')"
      ],
      "metadata": {
        "id": "Fth8AL8BH-Ku"
      },
      "execution_count": null,
      "outputs": []
    },
    {
      "cell_type": "code",
      "source": [
        "sb.heatmap(data=tips.pivot(index='day',columns='sex',values='ptip'))"
      ],
      "metadata": {
        "id": "XXWrPgrPIrQt"
      },
      "execution_count": null,
      "outputs": []
    },
    {
      "cell_type": "code",
      "source": [],
      "metadata": {
        "id": "bKKXNVGVJ0Lt"
      },
      "execution_count": null,
      "outputs": []
    }
  ]
}