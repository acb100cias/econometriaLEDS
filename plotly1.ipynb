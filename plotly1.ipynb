{
  "nbformat": 4,
  "nbformat_minor": 0,
  "metadata": {
    "colab": {
      "private_outputs": true,
      "provenance": [],
      "authorship_tag": "ABX9TyPfScO6ljokNRDTwxKDirKJ",
      "include_colab_link": true
    },
    "kernelspec": {
      "name": "python3",
      "display_name": "Python 3"
    },
    "language_info": {
      "name": "python"
    }
  },
  "cells": [
    {
      "cell_type": "markdown",
      "metadata": {
        "id": "view-in-github",
        "colab_type": "text"
      },
      "source": [
        "<a href=\"https://colab.research.google.com/github/acb100cias/econometriaLEDS/blob/main/plotly1.ipynb\" target=\"_parent\"><img src=\"https://colab.research.google.com/assets/colab-badge.svg\" alt=\"Open In Colab\"/></a>"
      ]
    },
    {
      "cell_type": "code",
      "execution_count": null,
      "metadata": {
        "id": "qOII0TVefp83"
      },
      "outputs": [],
      "source": [
        "import plotly.express as px\n",
        "import numpy as np"
      ]
    },
    {
      "cell_type": "code",
      "source": [
        "iris=px.data.iris()"
      ],
      "metadata": {
        "id": "HyUEbArEgkqq"
      },
      "execution_count": null,
      "outputs": []
    },
    {
      "cell_type": "code",
      "source": [
        "iris"
      ],
      "metadata": {
        "id": "ItpOQajJguy5"
      },
      "execution_count": null,
      "outputs": []
    },
    {
      "cell_type": "code",
      "source": [
        "f1=px.line(iris,x='species',y='petal_width',color='species')"
      ],
      "metadata": {
        "id": "t7Wcf1GvgvdB"
      },
      "execution_count": null,
      "outputs": []
    },
    {
      "cell_type": "code",
      "source": [
        "f1.show()"
      ],
      "metadata": {
        "id": "rEuJgPitiS0h"
      },
      "execution_count": null,
      "outputs": []
    },
    {
      "cell_type": "code",
      "source": [
        "f2=px.line(iris,x='species',y='sepal_width',color='species')"
      ],
      "metadata": {
        "id": "fVq__gKsiVUn"
      },
      "execution_count": null,
      "outputs": []
    },
    {
      "cell_type": "code",
      "source": [
        "f2.show()"
      ],
      "metadata": {
        "id": "lszVs3aqij_w"
      },
      "execution_count": null,
      "outputs": []
    },
    {
      "cell_type": "code",
      "source": [
        "f3=px.bar(iris,x='species',y='sepal_width',color='species')"
      ],
      "metadata": {
        "id": "GjlX-jieim-O"
      },
      "execution_count": null,
      "outputs": []
    },
    {
      "cell_type": "code",
      "source": [
        "f3.show()"
      ],
      "metadata": {
        "id": "zt6HtQaFjeAX"
      },
      "execution_count": null,
      "outputs": []
    },
    {
      "cell_type": "code",
      "source": [
        "f4=px.histogram(iris,x='petal_width',y='sepal_width',color='species')"
      ],
      "metadata": {
        "id": "CRyjeWVvjf_V"
      },
      "execution_count": null,
      "outputs": []
    },
    {
      "cell_type": "code",
      "source": [
        "f4.show()"
      ],
      "metadata": {
        "id": "4Y_JRLPXj-E1"
      },
      "execution_count": null,
      "outputs": []
    },
    {
      "cell_type": "code",
      "source": [
        "f5=px.scatter(iris,x='species',y='petal_width',color='species')"
      ],
      "metadata": {
        "id": "6-8esjsrkACF"
      },
      "execution_count": null,
      "outputs": []
    },
    {
      "cell_type": "code",
      "source": [
        "f5.show()"
      ],
      "metadata": {
        "id": "Nx20VWgDkfQ9"
      },
      "execution_count": null,
      "outputs": []
    },
    {
      "cell_type": "code",
      "source": [
        "gap=px.data.gapminder()"
      ],
      "metadata": {
        "id": "yjQ087lIkgpl"
      },
      "execution_count": null,
      "outputs": []
    },
    {
      "cell_type": "code",
      "source": [
        "gap"
      ],
      "metadata": {
        "id": "t-RE7kLclK4E"
      },
      "execution_count": null,
      "outputs": []
    },
    {
      "cell_type": "code",
      "source": [
        "g1=px.scatter(gap,x='gdpPercap',y='lifeExp',color='continent',\n",
        "              size='pop',log_x=True,animation_frame='year',\n",
        "              animation_group='country',size_max=55,\n",
        "              range_x=[100,100000],range_y=[25,90],\n",
        "              hover_name='country'\n",
        "              )"
      ],
      "metadata": {
        "id": "SjURjMOslMD8"
      },
      "execution_count": null,
      "outputs": []
    },
    {
      "cell_type": "code",
      "source": [
        "g1.show()"
      ],
      "metadata": {
        "id": "glKh3CY9l4hr"
      },
      "execution_count": null,
      "outputs": []
    },
    {
      "cell_type": "code",
      "source": [],
      "metadata": {
        "id": "QGqfxz8HmJEk"
      },
      "execution_count": null,
      "outputs": []
    }
  ]
}