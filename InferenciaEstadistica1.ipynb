{
  "nbformat": 4,
  "nbformat_minor": 0,
  "metadata": {
    "colab": {
      "private_outputs": true,
      "provenance": [],
      "authorship_tag": "ABX9TyMYvXmU2IZKs8Z7FGzPe1ZB",
      "include_colab_link": true
    },
    "kernelspec": {
      "name": "python3",
      "display_name": "Python 3"
    },
    "language_info": {
      "name": "python"
    }
  },
  "cells": [
    {
      "cell_type": "markdown",
      "metadata": {
        "id": "view-in-github",
        "colab_type": "text"
      },
      "source": [
        "<a href=\"https://colab.research.google.com/github/acb100cias/econometriaLEDS/blob/main/InferenciaEstadistica1.ipynb\" target=\"_parent\"><img src=\"https://colab.research.google.com/assets/colab-badge.svg\" alt=\"Open In Colab\"/></a>"
      ]
    },
    {
      "cell_type": "code",
      "execution_count": null,
      "metadata": {
        "id": "UbNXid4FUKrl"
      },
      "outputs": [],
      "source": [
        "import random as rd\n",
        "import numpy as np\n",
        "import scipy.stats as st\n",
        "import seaborn as sb"
      ]
    },
    {
      "cell_type": "code",
      "source": [
        "U=np.random.random(100000)"
      ],
      "metadata": {
        "id": "Gx8B9oEiVrIA"
      },
      "execution_count": null,
      "outputs": []
    },
    {
      "cell_type": "code",
      "source": [
        "N=np.random.normal(0,1,100000)"
      ],
      "metadata": {
        "id": "kQY7gWF4WM9e"
      },
      "execution_count": null,
      "outputs": []
    },
    {
      "cell_type": "code",
      "source": [
        "sb.distplot(U)"
      ],
      "metadata": {
        "id": "Y-tPKVJcXgU0"
      },
      "execution_count": null,
      "outputs": []
    },
    {
      "cell_type": "code",
      "source": [
        "sb.distplot(N)"
      ],
      "metadata": {
        "id": "2WMP_hI-X_zk"
      },
      "execution_count": null,
      "outputs": []
    },
    {
      "cell_type": "code",
      "source": [
        "E1=np.random.exponential(0.5,100000)\n",
        "E2=np.random.exponential(1,100000)\n",
        "E3=np.random.exponential(1.5,100000)\n",
        "\n",
        "sb.distplot(E1,label='0.5')\n",
        "sb.distplot(E2,label='1')\n",
        "sb.distplot(E3,label='1.5')\n",
        "\n"
      ],
      "metadata": {
        "id": "bC9wr4xLYe7K"
      },
      "execution_count": null,
      "outputs": []
    },
    {
      "cell_type": "code",
      "source": [
        "sb.displot(U)"
      ],
      "metadata": {
        "id": "C4J5IYPjZtL6"
      },
      "execution_count": null,
      "outputs": []
    },
    {
      "cell_type": "code",
      "source": [
        "sb.displot(N)"
      ],
      "metadata": {
        "id": "xQT8423dclGw"
      },
      "execution_count": null,
      "outputs": []
    },
    {
      "cell_type": "code",
      "source": [
        "sb.displot(E1)\n",
        "sb.displot(E2)\n",
        "sb.displot(E3)"
      ],
      "metadata": {
        "id": "a0PUfRffcrAn"
      },
      "execution_count": null,
      "outputs": []
    },
    {
      "cell_type": "code",
      "source": [
        "B1=st.bernoulli.rvs(0.3,size=100000)\n",
        "B2=st.bernoulli.rvs(0.5,size=100000)\n",
        "B3=st.bernoulli.rvs(0.8,size=100000)\n"
      ],
      "metadata": {
        "id": "nhW5J1vTc3oZ"
      },
      "execution_count": null,
      "outputs": []
    },
    {
      "cell_type": "code",
      "source": [
        "sb.displot(B1)\n",
        "sb.displot(B2)\n",
        "sb.displot(B3)"
      ],
      "metadata": {
        "id": "dSBHtS1feGH2"
      },
      "execution_count": null,
      "outputs": []
    },
    {
      "cell_type": "code",
      "source": [
        "import pandas as pd"
      ],
      "metadata": {
        "id": "4L55Tq_iellm"
      },
      "execution_count": null,
      "outputs": []
    },
    {
      "cell_type": "code",
      "source": [
        "tips=sb.load_dataset('tips')"
      ],
      "metadata": {
        "id": "9ANbpyI9f_eb"
      },
      "execution_count": null,
      "outputs": []
    },
    {
      "cell_type": "code",
      "source": [
        "tips"
      ],
      "metadata": {
        "id": "dzXKkwDSgPus"
      },
      "execution_count": null,
      "outputs": []
    },
    {
      "cell_type": "code",
      "source": [
        "sb.catplot(x='day',y='total_bill',data=tips,hue='smoker')"
      ],
      "metadata": {
        "id": "cxFN1-N9gUFu"
      },
      "execution_count": null,
      "outputs": []
    },
    {
      "cell_type": "code",
      "source": [],
      "metadata": {
        "id": "NxJuZRvwhP10"
      },
      "execution_count": null,
      "outputs": []
    }
  ]
}